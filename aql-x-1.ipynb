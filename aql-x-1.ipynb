{
 "cells": [
  {
   "cell_type": "markdown",
   "metadata": {},
   "source": [
    "Observational manifestations of the change in the tilt of the accretion disk to the orbital plane in her X-1/HZ her with phase of its 35-day period\n",
    "[https://ui.adsabs.harvard.edu/abs/2006AstL...32..804K/abstract](https://ui.adsabs.harvard.edu/abs/2006AstL...32..804K/abstract)\n",
    "\n",
    "![](./Screenshot_2.png)\n",
    "![](./Screenshot_1.png)"
   ]
  },
  {
   "cell_type": "code",
   "execution_count": 4,
   "metadata": {},
   "outputs": [
    {
     "data": {
      "image/png": "[encoded data removed]",
      "text/plain": [
       "<Figure size 432x288 with 1 Axes>"
      ]
     },
     "metadata": {
      "needs_background": "light"
     },
     "output_type": "display_data"
    }
   ],
   "source": [
    "import numpy as np\n",
    "import matplotlib.pyplot as plt\n",
    "from matplotlib import rc\n",
    "#rc('font',**{'family':'sans-serif','sans-serif':['Computer Modern Sans serif']})\n",
    "rc('font',**{'family':'serif','serif':['Palatino']})\n",
    "rc('text', usetex=True)\n",
    "\n",
    "#r_d = 0.4156 # \n",
    "\n",
    "r_d = np.arange(0.1, 0.8, 0.01)\n",
    "\n",
    "q = 1.0/0.39 # mass ratio q = M_x/M_o\n",
    "\n",
    "omega_b = 1/0.7895 # orbital frequency\n",
    "\n",
    "theta = 10.0 * (np.pi/180.0) # tilt of the disk to the orbital plane\n",
    "\n",
    "\n",
    "#p_precession = 1/((3/4) * r_d**2 * np.cos(theta) * omega_b / np.sqrt(q + q**2));\n",
    "p_precession = 1/((3/4) * r_d**2 * np.cos(theta) / np.sqrt(q + q**2));\n",
    "\n",
    "\n",
    "plt.plot(r_d, p_precession)\n",
    "plt.xlabel('$R_d$')\n",
    "plt.ylabel('Precession period, $P_{orb}$')\n",
    "plt.axhline(0.7895, label='$P_{orb}$')\n",
    "plt.grid(which='both')\n",
    "plt.yscale('log')\n",
    "plt.show()\n",
    "\n"
   ]
  },
  {
   "cell_type": "markdown",
   "metadata": {},
   "source": [
    "Precession of eccentric disk\n",
    "http://articles.adsabs.harvard.edu/pdf/1992ApJ...401..317L"
   ]
  },
  {
   "cell_type": "code",
   "execution_count": null,
   "metadata": {},
   "outputs": [],
   "source": []
  }
 ],
 "metadata": {
  "kernelspec": {
   "display_name": "Python 3",
   "language": "python",
   "name": "python3"
  },
  "language_info": {
   "codemirror_mode": {
    "name": "ipython",
    "version": 3
   },
   "file_extension": ".py",
   "mimetype": "text/x-python",
   "name": "python",
   "nbconvert_exporter": "python",
   "pygments_lexer": "ipython3",
   "version": "3.7.6"
  }
 },
 "nbformat": 4,
 "nbformat_minor": 2
}
